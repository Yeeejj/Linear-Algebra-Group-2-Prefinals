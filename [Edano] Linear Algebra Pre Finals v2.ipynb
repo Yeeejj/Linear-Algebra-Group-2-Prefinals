{
 "cells": [
  {
   "cell_type": "code",
   "execution_count": 1,
   "id": "fa0d7708",
   "metadata": {},
   "outputs": [],
   "source": [
    "import numpy as np\n",
    "import pandas as pd\n",
    "import matplotlib.pyplot as plt\n",
    "import seaborn as sns\n",
    "from sklearn.decomposition import PCA, TruncatedSVD\n",
    "from sklearn.preprocessing import StandardScaler\n",
    "from sklearn.datasets import load_iris\n",
    "from sklearn.metrics import pairwise_distances\n",
    "from scipy.spatial.distance import cdist"
   ]
  },
  {
   "cell_type": "code",
   "execution_count": 2,
   "id": "05a4ea73",
   "metadata": {},
   "outputs": [],
   "source": [
    "iris = load_iris()\n",
    "X = iris.data\n",
    "y = iris.target\n",
    "\n",
    "scaler = StandardScaler()\n",
    "X = scaler.fit_transform(X)"
   ]
  },
  {
   "cell_type": "code",
   "execution_count": 3,
   "id": "a694a3e5",
   "metadata": {},
   "outputs": [],
   "source": [
    "def my_pca(X, n_components=2):\n",
    "    X_mean = np.mean(X, axis=0)\n",
    "    B = X - X_mean\n",
    "    C = np.cov(B.T)\n",
    "    eigenvalues, eigenvectors = np.linalg.eig(C)\n",
    "    indices = np.argsort(eigenvalues)[::-1]\n",
    "    selected_eigenvectors = eigenvectors[:, indices[:n_components]]\n",
    "    transformed_X = B.dot(selected_eigenvectors)\n",
    "    return transformed_X\n",
    "\n",
    "transformed_X = my_pca(X)"
   ]
  },
  {
   "cell_type": "code",
   "execution_count": 4,
   "id": "1225fc5e",
   "metadata": {},
   "outputs": [],
   "source": [
    "def my_svd(X, n_components=2):\n",
    "    U, S, V = np.linalg.svd(X)\n",
    "    return U[:, :n_components] * S[:n_components]\n",
    "\n",
    "transformed_X = my_svd(X)"
   ]
  },
  {
   "cell_type": "code",
   "execution_count": 5,
   "id": "37114723",
   "metadata": {},
   "outputs": [],
   "source": [
    "pca = PCA(n_components=2)\n",
    "X_pca = pca.fit_transform(X)\n",
    "\n",
    "svd = TruncatedSVD(n_components=2)\n",
    "X_svd = svd.fit_transform(X)"
   ]
  },
  {
   "cell_type": "code",
   "execution_count": 6,
   "id": "489ce07a",
   "metadata": {},
   "outputs": [
    {
     "ename": "TypeError",
     "evalue": "scatterplot() takes from 0 to 1 positional arguments but 2 positional arguments (and 1 keyword-only argument) were given",
     "output_type": "error",
     "traceback": [
      "\u001b[1;31m---------------------------------------------------------------------------\u001b[0m",
      "\u001b[1;31mTypeError\u001b[0m                                 Traceback (most recent call last)",
      "Cell \u001b[1;32mIn[6], line 3\u001b[0m\n\u001b[0;32m      1\u001b[0m plt\u001b[38;5;241m.\u001b[39mfigure(figsize\u001b[38;5;241m=\u001b[39m(\u001b[38;5;241m12\u001b[39m, \u001b[38;5;241m8\u001b[39m))\n\u001b[0;32m      2\u001b[0m plt\u001b[38;5;241m.\u001b[39msubplot(\u001b[38;5;241m231\u001b[39m)\n\u001b[1;32m----> 3\u001b[0m sns\u001b[38;5;241m.\u001b[39mscatterplot(transformed_X[:, \u001b[38;5;241m0\u001b[39m], transformed_X[:, \u001b[38;5;241m1\u001b[39m], hue\u001b[38;5;241m=\u001b[39my)\n\u001b[0;32m      4\u001b[0m plt\u001b[38;5;241m.\u001b[39mtitle(\u001b[38;5;124m'\u001b[39m\u001b[38;5;124mMy PCA\u001b[39m\u001b[38;5;124m'\u001b[39m)\n\u001b[0;32m      6\u001b[0m plt\u001b[38;5;241m.\u001b[39msubplot(\u001b[38;5;241m232\u001b[39m)\n",
      "\u001b[1;31mTypeError\u001b[0m: scatterplot() takes from 0 to 1 positional arguments but 2 positional arguments (and 1 keyword-only argument) were given"
     ]
    },
    {
     "data": {
      "image/png": "[encoded data removed]",
      "text/plain": [
       "<Figure size 1200x800 with 1 Axes>"
      ]
     },
     "metadata": {},
     "output_type": "display_data"
    }
   ],
   "source": [
    "plt.figure(figsize=(12, 8))\n",
    "plt.subplot(231)\n",
    "sns.scatterplot(transformed_X[:, 0], transformed_X[:, 1], hue=y)\n",
    "plt.title('My PCA')\n",
    "\n",
    "plt.subplot(232)\n",
    "sns.scatterplot(X_pca[:, 0], X_pca[:, 1], hue=y)\n",
    "plt.title('PCA from sklearn')\n",
    "\n",
    "plt.subplot(233)\n",
    "sns.scatterplot(X_svd[:, 0], X_svd[:, 1], hue=y)\n",
    "plt.title('SVD from sklearn')\n",
    "\n",
    "plt.subplot(234)\n",
    "sns.scatterplot(my_svd(X)[:, 0], my_svd(X)[:, 1], hue=y)\n",
    "plt.title('My SVD')\n",
    "\n",
    "plt.show()"
   ]
  },
  {
   "cell_type": "code",
   "execution_count": null,
   "id": "047982c8",
   "metadata": {},
   "outputs": [],
   "source": []
  }
 ],
 "metadata": {
  "kernelspec": {
   "display_name": "Python 3 (ipykernel)",
   "language": "python",
   "name": "python3"
  },
  "language_info": {
   "codemirror_mode": {
    "name": "ipython",
    "version": 3
   },
   "file_extension": ".py",
   "mimetype": "text/x-python",
   "name": "python",
   "nbconvert_exporter": "python",
   "pygments_lexer": "ipython3",
   "version": "3.11.4"
  }
 },
 "nbformat": 4,
 "nbformat_minor": 5
}
