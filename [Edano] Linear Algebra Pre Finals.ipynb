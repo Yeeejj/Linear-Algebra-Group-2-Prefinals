{
 "cells": [
  {
   "cell_type": "code",
   "execution_count": 7,
   "id": "4d827d3f",
   "metadata": {},
   "outputs": [
    {
     "ename": "ModuleNotFoundError",
     "evalue": "No module named 'arff2pandas'",
     "output_type": "error",
     "traceback": [
      "\u001b[1;31m---------------------------------------------------------------------------\u001b[0m",
      "\u001b[1;31mModuleNotFoundError\u001b[0m                       Traceback (most recent call last)",
      "Cell \u001b[1;32mIn[7], line 1\u001b[0m\n\u001b[1;32m----> 1\u001b[0m \u001b[38;5;28;01mfrom\u001b[39;00m \u001b[38;5;21;01marff2pandas\u001b[39;00m \u001b[38;5;28;01mimport\u001b[39;00m a2p\n\u001b[0;32m      2\u001b[0m \u001b[38;5;28;01mimport\u001b[39;00m \u001b[38;5;21;01mpandas\u001b[39;00m \u001b[38;5;28;01mas\u001b[39;00m \u001b[38;5;21;01mpd\u001b[39;00m\n\u001b[0;32m      3\u001b[0m arff_file_path \u001b[38;5;241m=\u001b[39m \u001b[38;5;124mr\u001b[39m\u001b[38;5;124m'\u001b[39m\u001b[38;5;124mC:\u001b[39m\u001b[38;5;124m\\\u001b[39m\u001b[38;5;124mUsers\u001b[39m\u001b[38;5;124m\\\u001b[39m\u001b[38;5;124mUSER\u001b[39m\u001b[38;5;124m\\\u001b[39m\u001b[38;5;124mDownloads\u001b[39m\u001b[38;5;124m\\\u001b[39m\u001b[38;5;124mDiscrete3-Prefinal\u001b[39m\u001b[38;5;124m\\\u001b[39m\u001b[38;5;124mvisegrad+group+companies+data-2\u001b[39m\u001b[38;5;124m\\\u001b[39m\u001b[38;5;124mV4 data\u001b[39m\u001b[38;5;124m'\u001b[39m\n",
      "\u001b[1;31mModuleNotFoundError\u001b[0m: No module named 'arff2pandas'"
     ]
    }
   ],
   "source": [
    "from arff2pandas import a2p\n",
    "import pandas as pd\n",
    "arff_file_path = r'C:\\Users\\USER\\Downloads\\Discrete3-Prefinal\\visegrad+group+companies+data-2\\V4 data'\n",
    "df, meta = a2p.load_arff(arff_file_path)\n",
    "df.head()"
   ]
  },
  {
   "cell_type": "code",
   "execution_count": 4,
   "id": "d4603b4f",
   "metadata": {},
   "outputs": [
    {
     "ename": "NameError",
     "evalue": "name 'df' is not defined",
     "output_type": "error",
     "traceback": [
      "\u001b[1;31m---------------------------------------------------------------------------\u001b[0m",
      "\u001b[1;31mNameError\u001b[0m                                 Traceback (most recent call last)",
      "Cell \u001b[1;32mIn[4], line 27\u001b[0m\n\u001b[0;32m     25\u001b[0m \u001b[38;5;66;03m# Apply PCA to the loaded dataset\u001b[39;00m\n\u001b[0;32m     26\u001b[0m num_components \u001b[38;5;241m=\u001b[39m \u001b[38;5;241m2\u001b[39m  \u001b[38;5;66;03m# Adjust as needed\u001b[39;00m\n\u001b[1;32m---> 27\u001b[0m pca_result \u001b[38;5;241m=\u001b[39m pca_from_scratch(df\u001b[38;5;241m.\u001b[39mvalues, num_components)\n\u001b[0;32m     29\u001b[0m \u001b[38;5;66;03m# Display the PCA result\u001b[39;00m\n\u001b[0;32m     30\u001b[0m pca_df \u001b[38;5;241m=\u001b[39m pd\u001b[38;5;241m.\u001b[39mDataFrame(data\u001b[38;5;241m=\u001b[39mpca_result, columns\u001b[38;5;241m=\u001b[39m[\u001b[38;5;124mf\u001b[39m\u001b[38;5;124m'\u001b[39m\u001b[38;5;124mPC\u001b[39m\u001b[38;5;132;01m{\u001b[39;00mi\u001b[38;5;241m+\u001b[39m\u001b[38;5;241m1\u001b[39m\u001b[38;5;132;01m}\u001b[39;00m\u001b[38;5;124m'\u001b[39m \u001b[38;5;28;01mfor\u001b[39;00m i \u001b[38;5;129;01min\u001b[39;00m \u001b[38;5;28mrange\u001b[39m(num_components)])\n",
      "\u001b[1;31mNameError\u001b[0m: name 'df' is not defined"
     ]
    }
   ],
   "source": [
    "import numpy as np\n",
    "\n",
    "def pca_from_scratch(X, num_components):\n",
    "    # Center the data\n",
    "    X_centered = X - np.mean(X, axis=0)\n",
    "\n",
    "    # Calculate the covariance matrix\n",
    "    covariance_matrix = np.cov(X_centered, rowvar=False)\n",
    "\n",
    "    # Calculate the eigenvalues and eigenvectors\n",
    "    eigenvalues, eigenvectors = np.linalg.eigh(covariance_matrix)\n",
    "\n",
    "    # Sort eigenvectors by decreasing eigenvalues\n",
    "    sorted_indices = np.argsort(eigenvalues)[::-1]\n",
    "    eigenvectors_sorted = eigenvectors[:, sorted_indices]\n",
    "\n",
    "    # Select the top k eigenvectors\n",
    "    top_eigenvectors = eigenvectors_sorted[:, :num_components]\n",
    "\n",
    "    # Project the data onto the top eigenvectors\n",
    "    pca_result = np.dot(X_centered, top_eigenvectors)\n",
    "\n",
    "    return pca_result\n",
    "\n",
    "# Apply PCA to the loaded dataset\n",
    "num_components = 2  # Adjust as needed\n",
    "pca_result = pca_from_scratch(df.values, num_components)\n",
    "\n",
    "# Display the PCA result\n",
    "pca_df = pd.DataFrame(data=pca_result, columns=[f'PC{i+1}' for i in range(num_components)])\n",
    "pca_df.head()\n"
   ]
  },
  {
   "cell_type": "code",
   "execution_count": 5,
   "id": "eca186e1",
   "metadata": {},
   "outputs": [
    {
     "ename": "NameError",
     "evalue": "name 'df' is not defined",
     "output_type": "error",
     "traceback": [
      "\u001b[1;31m---------------------------------------------------------------------------\u001b[0m",
      "\u001b[1;31mNameError\u001b[0m                                 Traceback (most recent call last)",
      "Cell \u001b[1;32mIn[5], line 16\u001b[0m\n\u001b[0;32m     13\u001b[0m     \u001b[38;5;28;01mreturn\u001b[39;00m svd_result\n\u001b[0;32m     15\u001b[0m \u001b[38;5;66;03m# Apply SVD to the loaded dataset\u001b[39;00m\n\u001b[1;32m---> 16\u001b[0m svd_result \u001b[38;5;241m=\u001b[39m svd_from_scratch(df\u001b[38;5;241m.\u001b[39mvalues, num_components)\n\u001b[0;32m     18\u001b[0m \u001b[38;5;66;03m# Display the SVD result\u001b[39;00m\n\u001b[0;32m     19\u001b[0m svd_df \u001b[38;5;241m=\u001b[39m pd\u001b[38;5;241m.\u001b[39mDataFrame(data\u001b[38;5;241m=\u001b[39msvd_result, columns\u001b[38;5;241m=\u001b[39mdf\u001b[38;5;241m.\u001b[39mcolumns)\n",
      "\u001b[1;31mNameError\u001b[0m: name 'df' is not defined"
     ]
    }
   ],
   "source": [
    "def svd_from_scratch(X, num_components):\n",
    "    # Perform Singular Value Decomposition\n",
    "    U, S, VT = np.linalg.svd(X, full_matrices=False)\n",
    "\n",
    "    # Select the top k singular values and corresponding vectors\n",
    "    U_k = U[:, :num_components]\n",
    "    S_k = np.diag(S[:num_components])\n",
    "    VT_k = VT[:num_components, :]\n",
    "\n",
    "    # Reconstruct the matrix using the selected components\n",
    "    svd_result = np.dot(U_k, np.dot(S_k, VT_k))\n",
    "\n",
    "    return svd_result\n",
    "\n",
    "# Apply SVD to the loaded dataset\n",
    "svd_result = svd_from_scratch(df.values, num_components)\n",
    "\n",
    "# Display the SVD result\n",
    "svd_df = pd.DataFrame(data=svd_result, columns=df.columns)\n",
    "svd_df.head()\n"
   ]
  },
  {
   "cell_type": "code",
   "execution_count": 6,
   "id": "f7368c08",
   "metadata": {},
   "outputs": [
    {
     "ename": "NameError",
     "evalue": "name 'df' is not defined",
     "output_type": "error",
     "traceback": [
      "\u001b[1;31m---------------------------------------------------------------------------\u001b[0m",
      "\u001b[1;31mNameError\u001b[0m                                 Traceback (most recent call last)",
      "Cell \u001b[1;32mIn[6], line 7\u001b[0m\n\u001b[0;32m      4\u001b[0m sklearn_pca \u001b[38;5;241m=\u001b[39m PCA(n_components\u001b[38;5;241m=\u001b[39mnum_components)\n\u001b[0;32m      6\u001b[0m \u001b[38;5;66;03m# Apply PCA to the loaded dataset using scikit-learn\u001b[39;00m\n\u001b[1;32m----> 7\u001b[0m sklearn_pca_result \u001b[38;5;241m=\u001b[39m sklearn_pca\u001b[38;5;241m.\u001b[39mfit_transform(df)\n\u001b[0;32m      9\u001b[0m \u001b[38;5;66;03m# Display the scikit-learn PCA result\u001b[39;00m\n\u001b[0;32m     10\u001b[0m sklearn_pca_df \u001b[38;5;241m=\u001b[39m pd\u001b[38;5;241m.\u001b[39mDataFrame(data\u001b[38;5;241m=\u001b[39msklearn_pca_result, columns\u001b[38;5;241m=\u001b[39m[\u001b[38;5;124mf\u001b[39m\u001b[38;5;124m'\u001b[39m\u001b[38;5;124mPC\u001b[39m\u001b[38;5;132;01m{\u001b[39;00mi\u001b[38;5;241m+\u001b[39m\u001b[38;5;241m1\u001b[39m\u001b[38;5;132;01m}\u001b[39;00m\u001b[38;5;124m'\u001b[39m \u001b[38;5;28;01mfor\u001b[39;00m i \u001b[38;5;129;01min\u001b[39;00m \u001b[38;5;28mrange\u001b[39m(num_components)])\n",
      "\u001b[1;31mNameError\u001b[0m: name 'df' is not defined"
     ]
    }
   ],
   "source": [
    "from sklearn.decomposition import PCA\n",
    "\n",
    "# Initialize scikit-learn PCA\n",
    "sklearn_pca = PCA(n_components=num_components)\n",
    "\n",
    "# Apply PCA to the loaded dataset using scikit-learn\n",
    "sklearn_pca_result = sklearn_pca.fit_transform(df)\n",
    "\n",
    "# Display the scikit-learn PCA result\n",
    "sklearn_pca_df = pd.DataFrame(data=sklearn_pca_result, columns=[f'PC{i+1}' for i in range(num_components)])\n",
    "sklearn_pca_df.head()\n"
   ]
  },
  {
   "cell_type": "code",
   "execution_count": null,
   "id": "96fda331",
   "metadata": {},
   "outputs": [],
   "source": []
  }
 ],
 "metadata": {
  "kernelspec": {
   "display_name": "Python 3 (ipykernel)",
   "language": "python",
   "name": "python3"
  },
  "language_info": {
   "codemirror_mode": {
    "name": "ipython",
    "version": 3
   },
   "file_extension": ".py",
   "mimetype": "text/x-python",
   "name": "python",
   "nbconvert_exporter": "python",
   "pygments_lexer": "ipython3",
   "version": "3.11.4"
  }
 },
 "nbformat": 4,
 "nbformat_minor": 5
}
